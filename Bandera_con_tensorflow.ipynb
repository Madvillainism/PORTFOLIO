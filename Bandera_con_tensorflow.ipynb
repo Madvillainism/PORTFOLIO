{
  "nbformat": 4,
  "nbformat_minor": 0,
  "metadata": {
    "colab": {
      "provenance": [],
      "gpuType": "T4",
      "authorship_tag": "ABX9TyOG04HZDMvHw0dEkUjsxM/I",
      "include_colab_link": true
    },
    "kernelspec": {
      "name": "python3",
      "display_name": "Python 3"
    },
    "language_info": {
      "name": "python"
    },
    "accelerator": "GPU"
  },
  "cells": [
    {
      "cell_type": "markdown",
      "metadata": {
        "id": "view-in-github",
        "colab_type": "text"
      },
      "source": [
        "<a href=\"https://colab.research.google.com/github/Madvillainism/PORTFOLIO-URBE/blob/main/Bandera_con_tensorflow.ipynb\" target=\"_parent\"><img src=\"https://colab.research.google.com/assets/colab-badge.svg\" alt=\"Open In Colab\"/></a>"
      ]
    },
    {
      "cell_type": "code",
      "execution_count": 2,
      "metadata": {
        "id": "buF_SMF97b8c"
      },
      "outputs": [],
      "source": [
        "import numpy as np\n",
        "import matplotlib.pyplot as plt\n",
        "%matplotlib inline\n",
        "\n"
      ]
    },
    {
      "cell_type": "markdown",
      "source": [
        "Matrix"
      ],
      "metadata": {
        "id": "M19MZCDO-DAG"
      }
    },
    {
      "cell_type": "code",
      "source": [
        "x = np.array([[12, 45, 26, 45],\n",
        "              [42, 12, 26, 23]])\n",
        "print(x.shape)\n",
        "print(x.ndim)\n",
        "print(x.dtype)"
      ],
      "metadata": {
        "colab": {
          "base_uri": "https://localhost:8080/"
        },
        "id": "NNpFqiHV-CLX",
        "outputId": "ef0d984d-280a-472f-ec95-c9bd366966ca"
      },
      "execution_count": 5,
      "outputs": [
        {
          "output_type": "stream",
          "name": "stdout",
          "text": [
            "(2, 4)\n",
            "2\n",
            "int64\n"
          ]
        }
      ]
    },
    {
      "cell_type": "markdown",
      "source": [
        "El codigo de arriba hace 2 arrays de 4 elementos, y su dimension es de 2\n"
      ],
      "metadata": {
        "id": "O3YqfLG-_lzd"
      }
    },
    {
      "cell_type": "code",
      "source": [
        "Y=[255,215,0]\n",
        "B=[0,0,205]\n",
        "R=[200,12,29]\n",
        "W=[255,255,255]\n",
        "\n",
        "tensorMexico=np.array([\n",
        "    [Y,Y,Y,Y,Y,Y,Y,Y,Y,Y,Y,Y,Y,Y,Y,Y,Y,Y,Y,Y,Y,Y,Y,Y],\n",
        "    [Y,Y,Y,Y,Y,Y,Y,Y,Y,Y,Y,Y,Y,Y,Y,Y,Y,Y,Y,Y,Y,Y,Y,Y],\n",
        "    [Y,Y,Y,Y,Y,Y,Y,Y,Y,Y,Y,Y,Y,Y,Y,Y,Y,Y,Y,Y,Y,Y,Y,Y],\n",
        "    [Y,Y,Y,Y,Y,Y,Y,Y,Y,Y,Y,Y,Y,Y,Y,Y,Y,Y,Y,Y,Y,Y,Y,Y],\n",
        "    [Y,Y,Y,Y,Y,Y,Y,Y,Y,Y,Y,Y,Y,Y,Y,Y,Y,Y,Y,Y,Y,Y,Y,Y],\n",
        "    [Y,Y,Y,Y,Y,Y,Y,Y,Y,Y,Y,Y,Y,Y,Y,Y,Y,Y,Y,Y,Y,Y,Y,Y],\n",
        "\n",
        "    [B,B,B,B,B,B,B,B,B,B,B,B,B,B,B,B,B,B,B,B,B,B,B,B],\n",
        "    [B,B,B,B,B,B,B,B,B,B,W,B,W,B,B,B,B,B,B,B,B,B,B,B],\n",
        "    [B,B,B,B,B,B,B,B,W,B,B,B,B,B,W,B,B,B,B,B,B,B,B,B],\n",
        "    [B,B,B,B,B,B,W,B,B,B,B,B,B,B,B,B,W,B,B,B,B,B,B,B],\n",
        "    [B,B,B,B,W,B,B,B,B,B,B,B,B,B,B,B,B,B,W,B,B,B,B,B],\n",
        "    [B,B,B,B,B,B,B,B,B,B,B,B,B,B,B,B,B,B,B,B,B,B,B,B],\n",
        "\n",
        "    [R,R,R,R,R,R,R,R,R,R,R,R,R,R,R,R,R,R,R,R,R,R,R,R],\n",
        "    [R,R,R,R,R,R,R,R,R,R,R,R,R,R,R,R,R,R,R,R,R,R,R,R],\n",
        "    [R,R,R,R,R,R,R,R,R,R,R,R,R,R,R,R,R,R,R,R,R,R,R,R],\n",
        "    [R,R,R,R,R,R,R,R,R,R,R,R,R,R,R,R,R,R,R,R,R,R,R,R],\n",
        "    [R,R,R,R,R,R,R,R,R,R,R,R,R,R,R,R,R,R,R,R,R,R,R,R],\n",
        "    [R,R,R,R,R,R,R,R,R,R,R,R,R,R,R,R,R,R,R,R,R,R,R,R],\n",
        "\n",
        "    ])\n",
        "\n",
        "plt.imshow(tensorMexico, interpolation='nearest')\n",
        "plt.show()"
      ],
      "metadata": {
        "colab": {
          "base_uri": "https://localhost:8080/",
          "height": 430
        },
        "id": "EkUA9xeDAvED",
        "outputId": "38aa293f-1939-413c-9ced-896c81e891aa"
      },
      "execution_count": 6,
      "outputs": [
        {
          "output_type": "display_data",
          "data": {
            "text/plain": [
              "<Figure size 640x480 with 1 Axes>"
            ],
            "image/png": "[encoded data removed]"
          },
          "metadata": {}
        }
      ]
    }
  ]
}